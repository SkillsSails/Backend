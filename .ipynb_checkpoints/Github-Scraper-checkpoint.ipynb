{
 "cells": [
  {
   "cell_type": "code",
   "execution_count": 8,
   "metadata": {},
   "outputs": [
    {
     "name": "stdout",
     "output_type": "stream",
     "text": [
      "Collecting requests\n",
      "  Downloading requests-2.32.3-py3-none-any.whl.metadata (4.6 kB)\n",
      "Collecting charset-normalizer<4,>=2 (from requests)\n",
      "  Downloading charset_normalizer-3.3.2-cp312-cp312-win_amd64.whl.metadata (34 kB)\n",
      "Collecting idna<4,>=2.5 (from requests)\n",
      "  Downloading idna-3.7-py3-none-any.whl.metadata (9.9 kB)\n",
      "Collecting urllib3<3,>=1.21.1 (from requests)\n",
      "  Downloading urllib3-2.2.2-py3-none-any.whl.metadata (6.4 kB)\n",
      "Collecting certifi>=2017.4.17 (from requests)\n",
      "  Downloading certifi-2024.7.4-py3-none-any.whl.metadata (2.2 kB)\n",
      "Downloading requests-2.32.3-py3-none-any.whl (64 kB)\n",
      "   ---------------------------------------- 0.0/64.9 kB ? eta -:--:--\n",
      "   ------------------ --------------------- 30.7/64.9 kB ? eta -:--:--\n",
      "   ---------------------------------------- 64.9/64.9 kB 701.1 kB/s eta 0:00:00\n",
      "Downloading certifi-2024.7.4-py3-none-any.whl (162 kB)\n",
      "   ---------------------------------------- 0.0/163.0 kB ? eta -:--:--\n",
      "   --------------- ------------------------ 61.4/163.0 kB 1.7 MB/s eta 0:00:01\n",
      "   ------------------------------ --------- 122.9/163.0 kB 1.4 MB/s eta 0:00:01\n",
      "   ------------------------------------- -- 153.6/163.0 kB 1.1 MB/s eta 0:00:01\n",
      "   ---------------------------------------- 163.0/163.0 kB 1.1 MB/s eta 0:00:00\n",
      "Downloading charset_normalizer-3.3.2-cp312-cp312-win_amd64.whl (100 kB)\n",
      "   ---------------------------------------- 0.0/100.4 kB ? eta -:--:--\n",
      "   ----------- --------------------------- 30.7/100.4 kB 660.6 kB/s eta 0:00:01\n",
      "   --------------- ----------------------- 41.0/100.4 kB 487.6 kB/s eta 0:00:01\n",
      "   -------------------------------------- 100.4/100.4 kB 827.1 kB/s eta 0:00:00\n",
      "Downloading idna-3.7-py3-none-any.whl (66 kB)\n",
      "   ---------------------------------------- 0.0/66.8 kB ? eta -:--:--\n",
      "   ------------------------ --------------- 41.0/66.8 kB 2.0 MB/s eta 0:00:01\n",
      "   ---------------------------------------- 66.8/66.8 kB 1.2 MB/s eta 0:00:00\n",
      "Downloading urllib3-2.2.2-py3-none-any.whl (121 kB)\n",
      "   ---------------------------------------- 0.0/121.4 kB ? eta -:--:--\n",
      "   ---------- ----------------------------- 30.7/121.4 kB 1.4 MB/s eta 0:00:01\n",
      "   ---------- ----------------------------- 30.7/121.4 kB 1.4 MB/s eta 0:00:01\n",
      "   ---------------------------------------- 121.4/121.4 kB 1.0 MB/s eta 0:00:00\n",
      "Installing collected packages: urllib3, idna, charset-normalizer, certifi, requests\n",
      "Successfully installed certifi-2024.7.4 charset-normalizer-3.3.2 idna-3.7 requests-2.32.3 urllib3-2.2.2\n"
     ]
    },
    {
     "name": "stderr",
     "output_type": "stream",
     "text": [
      "  WARNING: The script normalizer.exe is installed in 'C:\\Users\\Admin\\AppData\\Local\\Programs\\Python\\Python312\\Scripts' which is not on PATH.\n",
      "  Consider adding this directory to PATH or, if you prefer to suppress this warning, use --no-warn-script-location.\n",
      "\n",
      "[notice] A new release of pip is available: 24.0 -> 24.1.2\n",
      "[notice] To update, run: python.exe -m pip install --upgrade pip\n"
     ]
    }
   ],
   "source": [
    "#Dependencies\n",
    "!py -m pip install requests\n"
   ]
  },
  {
   "cell_type": "code",
   "execution_count": 9,
   "metadata": {},
   "outputs": [],
   "source": [
    "\n",
    "#imports\n",
    "import requests\n",
    "import json\n"
   ]
  },
  {
   "cell_type": "markdown",
   "metadata": {},
   "source": [
    "Function that filters data according to the filter\n"
   ]
  },
  {
   "cell_type": "code",
   "execution_count": 10,
   "metadata": {},
   "outputs": [],
   "source": [
    "def extract_data(Filter, DataFromGithub, ):\n",
    "    Data = {}\n",
    "    for (key, value) in DataFromGithub.items():\n",
    "            if key in Filter:\n",
    "                Data[key] = value\n",
    "    \n",
    "    return Data"
   ]
  },
  {
   "cell_type": "markdown",
   "metadata": {},
   "source": [
    "User Class (OOP Style code)"
   ]
  },
  {
   "cell_type": "code",
   "execution_count": 18,
   "metadata": {},
   "outputs": [],
   "source": [
    "class User():\n",
    "\n",
    "    #constructor\n",
    "    def __init__(self, Username):\n",
    "        self.Username = Username\n",
    "        self.UserURL = 'https://api.github.com/users/{}'.format(self.Username)  \n",
    "        self.ReposUrl = 'https://api.github.com/users/{}/repos'.format(self.Username)      \n",
    "\n",
    "    def get_user_stats(self):\n",
    "\n",
    "        #Get all the data from Github (Get Request)\n",
    "        ProfileDataFromGithub = requests.get(self.UserURL).json()\n",
    "        RepoDataFromGithub = requests.get(self.ReposUrl).json()\n",
    "\n",
    "\n",
    "        #Filters for ProfileData\n",
    "        DataNeededFromProfileData = [\n",
    "            'name',\n",
    "            'created_at',\n",
    "            'company',\n",
    "            'blog',\n",
    "            'location',\n",
    "            'email',\n",
    "            'public_repos',\n",
    "            'followers',\n",
    "            'following',\n",
    "            'bio',\n",
    "            'hireable'\n",
    "        ]\n",
    "\n",
    "        #Filter the Profile Data\n",
    "        self.UserData = extract_data(DataNeededFromProfileData, ProfileDataFromGithub)\n",
    "        \n",
    "        #Filters for RepoData\n",
    "        DataNeededFromRepoData = [\n",
    "            'name',\n",
    "            'description',\n",
    "            'created_at',\n",
    "            'size',\n",
    "            'language'\n",
    "        ]\n",
    "\n",
    "        #Getting the Repos Data Needed repo by repo\n",
    "        ReposData=[extract_data(DataNeededFromRepoData,repo) for repo in RepoDataFromGithub]\n",
    "\n",
    "        #add Repos Information to the UserData Dictionary\n",
    "        self.UserData['repositories']=ReposData\n",
    "                \n",
    "\n",
    "        #return Data in JSON Format\n",
    "        return json.dumps(self.UserData, indent= True)"
   ]
  },
  {
   "cell_type": "markdown",
   "metadata": {},
   "source": [
    "Running Code, getting the data and printing it"
   ]
  },
  {
   "cell_type": "code",
   "execution_count": 19,
   "metadata": {},
   "outputs": [
    {
     "name": "stdout",
     "output_type": "stream",
     "text": [
      "{\n",
      " \"name\": null,\n",
      " \"company\": null,\n",
      " \"blog\": \"\",\n",
      " \"location\": null,\n",
      " \"email\": null,\n",
      " \"hireable\": null,\n",
      " \"bio\": null,\n",
      " \"public_repos\": 9,\n",
      " \"followers\": 0,\n",
      " \"following\": 0,\n",
      " \"created_at\": \"2023-01-23T18:20:58Z\",\n",
      " \"repositories\": [\n",
      "  {\n",
      "   \"name\": \"CP4_Competitive_Programming_Book_Problems\",\n",
      "   \"description\": \"This is a repo of the solutions of problems I solved from the CP4 Steven Halim's Book. This repo is purely for archival purposes, though it might benefit someone who's stuck at a certain problem of the book.\",\n",
      "   \"created_at\": \"2024-05-10T13:47:07Z\",\n",
      "   \"size\": 166,\n",
      "   \"language\": \"C++\"\n",
      "  },\n",
      "  {\n",
      "   \"name\": \"Expenses_Handler_ReactDemoProject\",\n",
      "   \"description\": null,\n",
      "   \"created_at\": \"2024-04-12T21:26:29Z\",\n",
      "   \"size\": 192,\n",
      "   \"language\": \"JavaScript\"\n",
      "  },\n",
      "  {\n",
      "   \"name\": \"E_commerce-Project-java\",\n",
      "   \"description\": null,\n",
      "   \"created_at\": \"2023-12-30T20:22:16Z\",\n",
      "   \"size\": 36,\n",
      "   \"language\": \"Java\"\n",
      "  },\n",
      "  {\n",
      "   \"name\": \"IjaKool_FoodOrder_ReactProject\",\n",
      "   \"description\": null,\n",
      "   \"created_at\": \"2024-04-28T14:22:34Z\",\n",
      "   \"size\": 5155,\n",
      "   \"language\": \"JavaScript\"\n",
      "  },\n",
      "  {\n",
      "   \"name\": \"Java-POO-Homework\",\n",
      "   \"description\": null,\n",
      "   \"created_at\": \"2023-12-31T12:07:28Z\",\n",
      "   \"size\": 93,\n",
      "   \"language\": \"Java\"\n",
      "  },\n",
      "  {\n",
      "   \"name\": \"LoginPage_ReactDemoProject\",\n",
      "   \"description\": null,\n",
      "   \"created_at\": \"2024-04-28T13:55:29Z\",\n",
      "   \"size\": 180,\n",
      "   \"language\": \"JavaScript\"\n",
      "  },\n",
      "  {\n",
      "   \"name\": \"NetflixClone_Symfony\",\n",
      "   \"description\": null,\n",
      "   \"created_at\": \"2024-05-06T18:38:16Z\",\n",
      "   \"size\": 79649,\n",
      "   \"language\": \"PHP\"\n",
      "  },\n",
      "  {\n",
      "   \"name\": \"task3Web\",\n",
      "   \"description\": null,\n",
      "   \"created_at\": \"2024-02-15T14:53:22Z\",\n",
      "   \"size\": 12,\n",
      "   \"language\": \"CSS\"\n",
      "  },\n",
      "  {\n",
      "   \"name\": \"TodoList_Styling_ReactDemoProject\",\n",
      "   \"description\": null,\n",
      "   \"created_at\": \"2024-04-19T14:09:45Z\",\n",
      "   \"size\": 185,\n",
      "   \"language\": \"JavaScript\"\n",
      "  }\n",
      " ]\n",
      "}\n"
     ]
    }
   ],
   "source": [
    "rayen = User('rayenbbs')\n",
    "data = rayen.get_user_stats()\n",
    "\n",
    "print(data)"
   ]
  }
 ],
 "metadata": {
  "kernelspec": {
   "display_name": "Python 3",
   "language": "python",
   "name": "python3"
  },
  "language_info": {
   "codemirror_mode": {
    "name": "ipython",
    "version": 3
   },
   "file_extension": ".py",
   "mimetype": "text/x-python",
   "name": "python",
   "nbconvert_exporter": "python",
   "pygments_lexer": "ipython3",
   "version": "3.12.4"
  }
 },
 "nbformat": 4,
 "nbformat_minor": 2
}
