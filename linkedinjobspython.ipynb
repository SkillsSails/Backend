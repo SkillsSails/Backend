{
 "cells": [
  {
   "cell_type": "code",
   "execution_count": 3,
   "metadata": {},
   "outputs": [
    {
     "name": "stdout",
     "output_type": "stream",
     "text": [
      "Requirement already satisfied: selenium in ./venv/lib/python3.12/site-packages (4.23.0)\n",
      "Requirement already satisfied: urllib3<3,>=1.26 in ./venv/lib/python3.12/site-packages (from urllib3[socks]<3,>=1.26->selenium) (2.2.2)\n",
      "Requirement already satisfied: trio~=0.17 in ./venv/lib/python3.12/site-packages (from selenium) (0.26.0)\n",
      "Requirement already satisfied: trio-websocket~=0.9 in ./venv/lib/python3.12/site-packages (from selenium) (0.11.1)\n",
      "Requirement already satisfied: certifi>=2021.10.8 in ./venv/lib/python3.12/site-packages (from selenium) (2024.7.4)\n",
      "Requirement already satisfied: typing_extensions~=4.9.0 in ./venv/lib/python3.12/site-packages (from selenium) (4.9.0)\n",
      "Requirement already satisfied: websocket-client==1.8.0 in ./venv/lib/python3.12/site-packages (from selenium) (1.8.0)\n",
      "Requirement already satisfied: attrs>=23.2.0 in ./venv/lib/python3.12/site-packages (from trio~=0.17->selenium) (23.2.0)\n",
      "Requirement already satisfied: sortedcontainers in ./venv/lib/python3.12/site-packages (from trio~=0.17->selenium) (2.4.0)\n",
      "Requirement already satisfied: idna in ./venv/lib/python3.12/site-packages (from trio~=0.17->selenium) (3.7)\n",
      "Requirement already satisfied: outcome in ./venv/lib/python3.12/site-packages (from trio~=0.17->selenium) (1.3.0.post0)\n",
      "Requirement already satisfied: sniffio>=1.3.0 in ./venv/lib/python3.12/site-packages (from trio~=0.17->selenium) (1.3.1)\n",
      "Requirement already satisfied: wsproto>=0.14 in ./venv/lib/python3.12/site-packages (from trio-websocket~=0.9->selenium) (1.2.0)\n",
      "Requirement already satisfied: pysocks!=1.5.7,<2.0,>=1.5.6 in ./venv/lib/python3.12/site-packages (from urllib3[socks]<3,>=1.26->selenium) (1.7.1)\n",
      "Requirement already satisfied: h11<1,>=0.9.0 in ./venv/lib/python3.12/site-packages (from wsproto>=0.14->trio-websocket~=0.9->selenium) (0.14.0)\n",
      "\n",
      "\u001b[1m[\u001b[0m\u001b[34;49mnotice\u001b[0m\u001b[1;39;49m]\u001b[0m\u001b[39;49m A new release of pip is available: \u001b[0m\u001b[31;49m24.1.1\u001b[0m\u001b[39;49m -> \u001b[0m\u001b[32;49m24.1.2\u001b[0m\n",
      "\u001b[1m[\u001b[0m\u001b[34;49mnotice\u001b[0m\u001b[1;39;49m]\u001b[0m\u001b[39;49m To update, run: \u001b[0m\u001b[32;49mpip install --upgrade pip\u001b[0m\n",
      "Collecting pandas\n",
      "  Downloading pandas-2.2.2-cp312-cp312-macosx_11_0_arm64.whl.metadata (19 kB)\n",
      "Requirement already satisfied: numpy>=1.26.0 in ./venv/lib/python3.12/site-packages (from pandas) (1.26.4)\n",
      "Requirement already satisfied: python-dateutil>=2.8.2 in ./venv/lib/python3.12/site-packages (from pandas) (2.9.0.post0)\n",
      "Collecting pytz>=2020.1 (from pandas)\n",
      "  Downloading pytz-2024.1-py2.py3-none-any.whl.metadata (22 kB)\n",
      "Collecting tzdata>=2022.7 (from pandas)\n",
      "  Downloading tzdata-2024.1-py2.py3-none-any.whl.metadata (1.4 kB)\n",
      "Requirement already satisfied: six>=1.5 in ./venv/lib/python3.12/site-packages (from python-dateutil>=2.8.2->pandas) (1.16.0)\n",
      "Downloading pandas-2.2.2-cp312-cp312-macosx_11_0_arm64.whl (11.3 MB)\n",
      "\u001b[2K   \u001b[38;2;114;156;31m━━━━━━━━━━━━━━━━━━━━━━━━━━━━━━━━━━━━━━━━\u001b[0m \u001b[32m11.3/11.3 MB\u001b[0m \u001b[31m465.7 kB/s\u001b[0m eta \u001b[36m0:00:00\u001b[0mm eta \u001b[36m0:00:01\u001b[0m[36m0:00:01\u001b[0m\n",
      "\u001b[?25hDownloading pytz-2024.1-py2.py3-none-any.whl (505 kB)\n",
      "\u001b[2K   \u001b[38;2;114;156;31m━━━━━━━━━━━━━━━━━━━━━━━━━━━━━━━━━━━━━━━\u001b[0m \u001b[32m505.5/505.5 kB\u001b[0m \u001b[31m327.8 kB/s\u001b[0m eta \u001b[36m0:00:00\u001b[0m1m329.4 kB/s\u001b[0m eta \u001b[36m0:00:01\u001b[0m\n",
      "\u001b[?25hDownloading tzdata-2024.1-py2.py3-none-any.whl (345 kB)\n",
      "\u001b[2K   \u001b[38;2;114;156;31m━━━━━━━━━━━━━━━━━━━━━━━━━━━━━━━━━━━━━━━\u001b[0m \u001b[32m345.4/345.4 kB\u001b[0m \u001b[31m225.2 kB/s\u001b[0m eta \u001b[36m0:00:00\u001b[0m[36m0:00:01\u001b[0mm eta \u001b[36m0:00:01\u001b[0m\n",
      "\u001b[?25hInstalling collected packages: pytz, tzdata, pandas\n",
      "Successfully installed pandas-2.2.2 pytz-2024.1 tzdata-2024.1\n",
      "\n",
      "\u001b[1m[\u001b[0m\u001b[34;49mnotice\u001b[0m\u001b[1;39;49m]\u001b[0m\u001b[39;49m A new release of pip is available: \u001b[0m\u001b[31;49m24.1.1\u001b[0m\u001b[39;49m -> \u001b[0m\u001b[32;49m24.1.2\u001b[0m\n",
      "\u001b[1m[\u001b[0m\u001b[34;49mnotice\u001b[0m\u001b[1;39;49m]\u001b[0m\u001b[39;49m To update, run: \u001b[0m\u001b[32;49mpip install --upgrade pip\u001b[0m\n"
     ]
    }
   ],
   "source": [
    "!pip install selenium\n",
    "!pip install pandas\n"
   ]
  },
  {
   "cell_type": "code",
   "execution_count": 4,
   "metadata": {},
   "outputs": [],
   "source": [
    "#Import Packages\n",
    "from selenium import webdriver\n",
    "import time\n",
    "import pandas as pd\n",
    "import os"
   ]
  },
  {
   "cell_type": "code",
   "execution_count": 6,
   "metadata": {},
   "outputs": [],
   "source": [
    "#Import Packages\n",
    "\n",
    "from selenium.webdriver.support.select import Select\n",
    "from selenium.webdriver.support.ui import WebDriverWait\n",
    "from selenium.webdriver.common.by import By\n",
    "from selenium.webdriver.support import expected_conditions as EC"
   ]
  },
  {
   "cell_type": "code",
   "execution_count": 7,
   "metadata": {},
   "outputs": [],
   "source": [
    "#Use this Url and change city or role accordingly\n",
    "\n",
    "url1='https://www.linkedin.com/jobs/search?keywords=Marketing%20Data%20Analyst&location=Berlin%2C%20Berlin%2C%20Germany&geoId=106967730&trk=public_jobs_jobs-search-bar_search-submit&position=1&pageNum=0'"
   ]
  },
  {
   "cell_type": "code",
   "execution_count": 13,
   "metadata": {
    "scrolled": true
   },
   "outputs": [],
   "source": [
    "from selenium import webdriver\n",
    "from selenium.webdriver.chrome.service import Service\n",
    "from selenium.webdriver.common.by import By\n",
    "\n",
    "# Path to the ChromeDriver on macOS\n",
    "chromedriver_path = '/usr/local/bin/chromedriver'\n",
    "\n",
    "# Create a Service object with the path to the ChromeDriver\n",
    "service = Service(chromedriver_path)\n",
    "\n",
    "# Create a new instance of the Chrome driver using the Service object\n",
    "driver = webdriver.Chrome(service=service)\n",
    "\n",
    "# Set an implicit wait time\n",
    "driver.implicitly_wait(10)\n",
    "\n",
    "\n",
    "# Open the specified URL\n",
    "driver.get(url1)\n"
   ]
  },
  {
   "cell_type": "code",
   "execution_count": 15,
   "metadata": {},
   "outputs": [
    {
     "name": "stdout",
     "output_type": "stream",
     "text": [
      "No job listings found.\n"
     ]
    }
   ],
   "source": [
    "from selenium import webdriver\n",
    "from selenium.webdriver.common.by import By\n",
    "\n",
    "\n",
    "# Find number of job listings\n",
    "job_count_elements = driver.find_elements(By.CLASS_NAME, 'results-context-header__job-count')\n",
    "\n",
    "if job_count_elements:\n",
    "    y = job_count_elements[0].text\n",
    "    print(f'Number of job listings: {y}')\n",
    "else:\n",
    "    print('No job listings found.')\n"
   ]
  },
  {
   "cell_type": "code",
   "execution_count": 19,
   "metadata": {},
   "outputs": [
    {
     "ename": "NameError",
     "evalue": "name 'y' is not defined",
     "output_type": "error",
     "traceback": [
      "\u001b[0;31m---------------------------------------------------------------------------\u001b[0m",
      "\u001b[0;31mNameError\u001b[0m                                 Traceback (most recent call last)",
      "Cell \u001b[0;32mIn[19], line 1\u001b[0m\n\u001b[0;32m----> 1\u001b[0m \u001b[38;5;28mtype\u001b[39m(\u001b[43my\u001b[49m)\n",
      "\u001b[0;31mNameError\u001b[0m: name 'y' is not defined"
     ]
    }
   ],
   "source": [
    "type(y)"
   ]
  },
  {
   "cell_type": "code",
   "execution_count": 21,
   "metadata": {},
   "outputs": [
    {
     "ename": "NameError",
     "evalue": "name 'y' is not defined",
     "output_type": "error",
     "traceback": [
      "\u001b[0;31m---------------------------------------------------------------------------\u001b[0m",
      "\u001b[0;31mNameError\u001b[0m                                 Traceback (most recent call last)",
      "Cell \u001b[0;32mIn[21], line 1\u001b[0m\n\u001b[0;32m----> 1\u001b[0m \u001b[38;5;28mtype\u001b[39m(\u001b[43my\u001b[49m)\n\u001b[1;32m      2\u001b[0m n\u001b[38;5;241m=\u001b[39mpd\u001b[38;5;241m.\u001b[39mto_numeric(y)\n",
      "\u001b[0;31mNameError\u001b[0m: name 'y' is not defined"
     ]
    }
   ],
   "source": [
    "type(y)\n",
    "n=pd.to_numeric(y)"
   ]
  },
  {
   "cell_type": "code",
   "execution_count": null,
   "metadata": {},
   "outputs": [],
   "source": [
    "n"
   ]
  },
  {
   "cell_type": "code",
   "execution_count": 22,
   "metadata": {},
   "outputs": [
    {
     "ename": "NameError",
     "evalue": "name 'n' is not defined",
     "output_type": "error",
     "traceback": [
      "\u001b[0;31m---------------------------------------------------------------------------\u001b[0m",
      "\u001b[0;31mNameError\u001b[0m                                 Traceback (most recent call last)",
      "Cell \u001b[0;32mIn[22], line 4\u001b[0m\n\u001b[1;32m      1\u001b[0m \u001b[38;5;66;03m#Loop to scroll through all jobs and click on see more jobs button for infinite scrolling\u001b[39;00m\n\u001b[1;32m      3\u001b[0m i \u001b[38;5;241m=\u001b[39m \u001b[38;5;241m2\u001b[39m\n\u001b[0;32m----> 4\u001b[0m \u001b[38;5;28;01mwhile\u001b[39;00m i \u001b[38;5;241m<\u001b[39m\u001b[38;5;241m=\u001b[39m \u001b[38;5;28mint\u001b[39m((\u001b[43mn\u001b[49m\u001b[38;5;241m+\u001b[39m\u001b[38;5;241m200\u001b[39m)\u001b[38;5;241m/\u001b[39m\u001b[38;5;241m25\u001b[39m)\u001b[38;5;241m+\u001b[39m\u001b[38;5;241m1\u001b[39m: \n\u001b[1;32m      5\u001b[0m     driver\u001b[38;5;241m.\u001b[39mexecute_script(\u001b[38;5;124m\"\u001b[39m\u001b[38;5;124mwindow.scrollTo(0, document.body.scrollHeight);\u001b[39m\u001b[38;5;124m\"\u001b[39m)\n\u001b[1;32m      6\u001b[0m     i \u001b[38;5;241m=\u001b[39m i \u001b[38;5;241m+\u001b[39m \u001b[38;5;241m1\u001b[39m\n",
      "\u001b[0;31mNameError\u001b[0m: name 'n' is not defined"
     ]
    }
   ],
   "source": [
    "#Loop to scroll through all jobs and click on see more jobs button for infinite scrolling\n",
    "\n",
    "i = 2\n",
    "while i <= int((n+200)/25)+1: \n",
    "    driver.execute_script(\"window.scrollTo(0, document.body.scrollHeight);\")\n",
    "    i = i + 1\n",
    "    \n",
    "    try:\n",
    "        send=driver.find_element_by_xpath(\"//button[@aria-label='Load more results']\")\n",
    "        driver.execute_script(\"arguments[0].click();\", send)   \n",
    "        time.sleep(3)\n",
    "    \n",
    "        \n",
    "         #buu=driver.find_elements_by_tag_name(\"button\")\n",
    "         #x=[btn for btn in buu if btn.text==\"See more jobs\"]\n",
    "         #for btn in x:\n",
    "                #driver.execute_script(\"arguments[0].click();\", btn)\n",
    "                #time.sleep(3)\n",
    "        \n",
    "                                                 \n",
    "\n",
    "\n",
    "            \n",
    "    except:\n",
    "        pass\n",
    "        time.sleep(5)\n",
    "         "
   ]
  },
  {
   "cell_type": "code",
   "execution_count": 16,
   "metadata": {},
   "outputs": [],
   "source": [
    "#Create empty lists for company name and job title\n",
    "\n",
    "companyname= []\n",
    "titlename= []\n"
   ]
  },
  {
   "cell_type": "code",
   "execution_count": 18,
   "metadata": {},
   "outputs": [
    {
     "name": "stdout",
     "output_type": "stream",
     "text": [
      "no\n"
     ]
    }
   ],
   "source": [
    "#Find company name and append it to the blank list\n",
    "\n",
    "try:\n",
    "    for i in range(n):\n",
    "        company=driver.find_elements(By.CLASS_NAME,'base-search-card__subtitle')[i].text\n",
    "        companyname.append(company)\n",
    "        \n",
    "            \n",
    "    \n",
    "\n",
    "        \n",
    "    \n",
    "\n",
    "    \n",
    "    \n",
    "except IndexError:\n",
    "    print(\"no\")\n",
    "        \n",
    "    \n",
    "    "
   ]
  },
  {
   "cell_type": "code",
   "execution_count": 19,
   "metadata": {},
   "outputs": [
    {
     "data": {
      "text/plain": [
       "109"
      ]
     },
     "execution_count": 19,
     "metadata": {},
     "output_type": "execute_result"
    }
   ],
   "source": [
    "len(companyname)"
   ]
  },
  {
   "cell_type": "code",
   "execution_count": 21,
   "metadata": {},
   "outputs": [
    {
     "name": "stdout",
     "output_type": "stream",
     "text": [
      "no\n"
     ]
    }
   ],
   "source": [
    "#Find title name and append it to the blank list\n",
    "\n",
    "try:\n",
    "    for i in range(n):\n",
    "        \n",
    "        \n",
    "        title=driver.find_elements(By.CLASS_NAME,'base-search-card__title')[i].text\n",
    "    \n",
    "\n",
    "        titlename.append(title)\n",
    "        \n",
    "            \n",
    "\n",
    "\n",
    "    \n",
    "    \n",
    "except IndexError:\n",
    "    print(\"no\")\n",
    "        \n",
    "    \n",
    "    "
   ]
  },
  {
   "cell_type": "code",
   "execution_count": 24,
   "metadata": {},
   "outputs": [
    {
     "ename": "NameError",
     "evalue": "name 'titlename' is not defined",
     "output_type": "error",
     "traceback": [
      "\u001b[0;31m---------------------------------------------------------------------------\u001b[0m",
      "\u001b[0;31mNameError\u001b[0m                                 Traceback (most recent call last)",
      "Cell \u001b[0;32mIn[24], line 1\u001b[0m\n\u001b[0;32m----> 1\u001b[0m \u001b[38;5;28mlen\u001b[39m(\u001b[43mtitlename\u001b[49m)\n",
      "\u001b[0;31mNameError\u001b[0m: name 'titlename' is not defined"
     ]
    }
   ],
   "source": [
    "len(titlename)\n"
   ]
  },
  {
   "cell_type": "code",
   "execution_count": 23,
   "metadata": {},
   "outputs": [],
   "source": [
    "#Create dataframe for company name and title\n",
    "\n",
    "companyfinal=pd.DataFrame(companyname,columns=[\"company\"])\n",
    "titlefinal=pd.DataFrame(titlename,columns=[\"title\"])\n",
    "\n",
    "\n",
    "\n"
   ]
  },
  {
   "cell_type": "code",
   "execution_count": 24,
   "metadata": {},
   "outputs": [],
   "source": [
    "#Join the two lists\n",
    "\n",
    "x=companyfinal.join(titlefinal)\n"
   ]
  },
  {
   "cell_type": "code",
   "execution_count": 25,
   "metadata": {},
   "outputs": [
    {
     "data": {
      "text/html": [
       "<div>\n",
       "<style scoped>\n",
       "    .dataframe tbody tr th:only-of-type {\n",
       "        vertical-align: middle;\n",
       "    }\n",
       "\n",
       "    .dataframe tbody tr th {\n",
       "        vertical-align: top;\n",
       "    }\n",
       "\n",
       "    .dataframe thead th {\n",
       "        text-align: right;\n",
       "    }\n",
       "</style>\n",
       "<table border=\"1\" class=\"dataframe\">\n",
       "  <thead>\n",
       "    <tr style=\"text-align: right;\">\n",
       "      <th></th>\n",
       "      <th>company</th>\n",
       "      <th>title</th>\n",
       "    </tr>\n",
       "  </thead>\n",
       "  <tbody>\n",
       "    <tr>\n",
       "      <th>0</th>\n",
       "      <td>Lovehoney Group</td>\n",
       "      <td>Junior Data Analyst</td>\n",
       "    </tr>\n",
       "    <tr>\n",
       "      <th>1</th>\n",
       "      <td>DR. KADE Health Care</td>\n",
       "      <td>(Junior) Data Analyst mit Schwerpunkt Marketin...</td>\n",
       "    </tr>\n",
       "    <tr>\n",
       "      <th>2</th>\n",
       "      <td>THRYVE</td>\n",
       "      <td>Digital Analyst</td>\n",
       "    </tr>\n",
       "    <tr>\n",
       "      <th>3</th>\n",
       "      <td>Dr. Kade Pharmazeutische Fabrik GmbH</td>\n",
       "      <td>(Junior) Data Analyst mit Schwerpunkt Marketin...</td>\n",
       "    </tr>\n",
       "    <tr>\n",
       "      <th>4</th>\n",
       "      <td>Ottobock</td>\n",
       "      <td>Power BI Report Designer (d/f/m)</td>\n",
       "    </tr>\n",
       "    <tr>\n",
       "      <th>...</th>\n",
       "      <td>...</td>\n",
       "      <td>...</td>\n",
       "    </tr>\n",
       "    <tr>\n",
       "      <th>104</th>\n",
       "      <td>a&amp;amp;o Hostels Holding GmbH &amp;amp; Co. KG</td>\n",
       "      <td>Duales Studium - B.A. Tourismusmanagement (m/w/d)</td>\n",
       "    </tr>\n",
       "    <tr>\n",
       "      <th>105</th>\n",
       "      <td>Grafton Recruitment</td>\n",
       "      <td>German speaking Social Media Analyst (gn)</td>\n",
       "    </tr>\n",
       "    <tr>\n",
       "      <th>106</th>\n",
       "      <td>Grafton Recruitment</td>\n",
       "      <td>German speaking Social Media Analyst (gn)</td>\n",
       "    </tr>\n",
       "    <tr>\n",
       "      <th>107</th>\n",
       "      <td>GAS German Aviation Service GmbH</td>\n",
       "      <td>BAS Berlin Aviation Service GmbH sucht Mitarbe...</td>\n",
       "    </tr>\n",
       "    <tr>\n",
       "      <th>108</th>\n",
       "      <td>GAS German Aviation Service GmbH</td>\n",
       "      <td>BAS Berlin Aviation Service GmbH sucht Mitarbe...</td>\n",
       "    </tr>\n",
       "  </tbody>\n",
       "</table>\n",
       "<p>109 rows × 2 columns</p>\n",
       "</div>"
      ],
      "text/plain": [
       "                                       company  \\\n",
       "0                              Lovehoney Group   \n",
       "1                         DR. KADE Health Care   \n",
       "2                                       THRYVE   \n",
       "3         Dr. Kade Pharmazeutische Fabrik GmbH   \n",
       "4                                     Ottobock   \n",
       "..                                         ...   \n",
       "104  a&amp;o Hostels Holding GmbH &amp; Co. KG   \n",
       "105                        Grafton Recruitment   \n",
       "106                        Grafton Recruitment   \n",
       "107           GAS German Aviation Service GmbH   \n",
       "108           GAS German Aviation Service GmbH   \n",
       "\n",
       "                                                 title  \n",
       "0                                  Junior Data Analyst  \n",
       "1    (Junior) Data Analyst mit Schwerpunkt Marketin...  \n",
       "2                                      Digital Analyst  \n",
       "3    (Junior) Data Analyst mit Schwerpunkt Marketin...  \n",
       "4                     Power BI Report Designer (d/f/m)  \n",
       "..                                                 ...  \n",
       "104  Duales Studium - B.A. Tourismusmanagement (m/w/d)  \n",
       "105          German speaking Social Media Analyst (gn)  \n",
       "106          German speaking Social Media Analyst (gn)  \n",
       "107  BAS Berlin Aviation Service GmbH sucht Mitarbe...  \n",
       "108  BAS Berlin Aviation Service GmbH sucht Mitarbe...  \n",
       "\n",
       "[109 rows x 2 columns]"
      ]
     },
     "execution_count": 25,
     "metadata": {},
     "output_type": "execute_result"
    }
   ],
   "source": [
    "x"
   ]
  },
  {
   "cell_type": "code",
   "execution_count": 23,
   "metadata": {},
   "outputs": [
    {
     "ename": "NameError",
     "evalue": "name 'x' is not defined",
     "output_type": "error",
     "traceback": [
      "\u001b[0;31m---------------------------------------------------------------------------\u001b[0m",
      "\u001b[0;31mNameError\u001b[0m                                 Traceback (most recent call last)",
      "Cell \u001b[0;32mIn[23], line 3\u001b[0m\n\u001b[1;32m      1\u001b[0m \u001b[38;5;66;03m#Save file in your directory\u001b[39;00m\n\u001b[0;32m----> 3\u001b[0m \u001b[43mx\u001b[49m\u001b[38;5;241m.\u001b[39mto_csv(\u001b[38;5;124m'\u001b[39m\u001b[38;5;124mlinkedin.csv\u001b[39m\u001b[38;5;124m'\u001b[39m)\n",
      "\u001b[0;31mNameError\u001b[0m: name 'x' is not defined"
     ]
    }
   ],
   "source": [
    "#Save file in your directory\n",
    "\n",
    "x.to_csv('linkedin.csv')"
   ]
  },
  {
   "cell_type": "code",
   "execution_count": 28,
   "metadata": {},
   "outputs": [],
   "source": [
    "\n",
    "#Find job links and append it to a list\n",
    "\n",
    "jobList = driver.find_elements(By.CLASS_NAME,'base-card__full-link')\n",
    "hrefList = []\n",
    "for e in jobList:\n",
    "    hrefList.append(e.get_attribute('href'))\n",
    "\n",
    "#for href in hrefList:\n",
    "    #link.append(href)\n",
    "    "
   ]
  },
  {
   "cell_type": "code",
   "execution_count": 29,
   "metadata": {},
   "outputs": [
    {
     "data": {
      "text/plain": [
       "['https://de.linkedin.com/jobs/view/junior-data-analyst-at-lovehoney-group-3947005100?position=1&pageNum=0&refId=3aQ2FNYr5B%2F%2Badx0mZEYrQ%3D%3D&trackingId=EW49OsxTpEkzhJouDChsNA%3D%3D&trk=public_jobs_jserp-result_search-card',\n",
       " 'https://de.linkedin.com/jobs/view/junior-data-analyst-mit-schwerpunkt-marketing-m-w-d-at-dr-kade-health-care-3915476081?position=2&pageNum=0&refId=3aQ2FNYr5B%2F%2Badx0mZEYrQ%3D%3D&trackingId=GIA0G2puTstDwqdNYxs%2B2A%3D%3D&trk=public_jobs_jserp-result_search-card',\n",
       " 'https://de.linkedin.com/jobs/view/digital-analyst-at-thryve-3966215301?position=3&pageNum=0&refId=3aQ2FNYr5B%2F%2Badx0mZEYrQ%3D%3D&trackingId=cBiqQgfiJ2l1NKklBAJQ9w%3D%3D&trk=public_jobs_jserp-result_search-card',\n",
       " 'https://de.linkedin.com/jobs/view/power-bi-report-designer-d-f-m-at-ottobock-3924757684?position=5&pageNum=0&refId=3aQ2FNYr5B%2F%2Badx0mZEYrQ%3D%3D&trackingId=QOLQtvkcLPb3wBIR%2B%2BDU7g%3D%3D&trk=public_jobs_jserp-result_search-card',\n",
       " 'https://de.linkedin.com/jobs/view/senior-data-analyst-business-analytics-supply-acquisition-at-getyourguide-3857987085?position=6&pageNum=0&refId=3aQ2FNYr5B%2F%2Badx0mZEYrQ%3D%3D&trackingId=ATdHMSYR9KoAowKf4BJ1rQ%3D%3D&trk=public_jobs_jserp-result_search-card',\n",
       " 'https://de.linkedin.com/jobs/view/digital-marketing-analyst-bei-gr%C3%BCnem-startup-at-goldmarie-finanzen-3959880095?position=7&pageNum=0&refId=3aQ2FNYr5B%2F%2Badx0mZEYrQ%3D%3D&trackingId=P6GB5TDHzyfmOENVxKzgDQ%3D%3D&trk=public_jobs_jserp-result_search-card',\n",
       " 'https://de.linkedin.com/jobs/view/performance-marketing-analyst-24-month-contract-at-audible-3947287537?position=8&pageNum=0&refId=3aQ2FNYr5B%2F%2Badx0mZEYrQ%3D%3D&trackingId=N7x7Y1fAsSkrGK31nMNsWw%3D%3D&trk=public_jobs_jserp-result_search-card',\n",
       " 'https://de.linkedin.com/jobs/view/businessanalyst-in-at-gp-joule-3953364510?position=9&pageNum=0&refId=3aQ2FNYr5B%2F%2Badx0mZEYrQ%3D%3D&trackingId=xouSEojmOD1cG%2FGOFvEYHg%3D%3D&trk=public_jobs_jserp-result_search-card',\n",
       " 'https://de.linkedin.com/jobs/view/business-analyst-ecommerce-at-lovehoney-group-3931053011?position=10&pageNum=0&refId=3aQ2FNYr5B%2F%2Badx0mZEYrQ%3D%3D&trackingId=pY0Ok5Qmt3NjueH94GmPtw%3D%3D&trk=public_jobs_jserp-result_search-card',\n",
       " 'https://de.linkedin.com/jobs/view/businessanalyst-in-m-w-div-at-deutsche-rentenversicherung-bund-3925073297?position=11&pageNum=0&refId=3aQ2FNYr5B%2F%2Badx0mZEYrQ%3D%3D&trackingId=%2F7I6FNRYfpL7PHbJhYh1Xw%3D%3D&trk=public_jobs_jserp-result_search-card',\n",
       " 'https://de.linkedin.com/jobs/view/senior-manager-marketing-analytics-m-f-d-at-raisin-3967494492?position=12&pageNum=0&refId=3aQ2FNYr5B%2F%2Badx0mZEYrQ%3D%3D&trackingId=C81G0mP%2FYIdrax7tAKE00Q%3D%3D&trk=public_jobs_jserp-result_search-card',\n",
       " 'https://de.linkedin.com/jobs/view/business-analyst-m-f-d-flixtrain-at-flix-3970123157?position=13&pageNum=0&refId=3aQ2FNYr5B%2F%2Badx0mZEYrQ%3D%3D&trackingId=IzyinGumHgPjlxDEOJNOjQ%3D%3D&trk=public_jobs_jserp-result_search-card',\n",
       " 'https://de.linkedin.com/jobs/view/business-analyst-k%C3%BCnstliche-intelligenz-m-w-div-in-%23berlin-at-deutsche-rentenversicherung-bund-3966921184?position=14&pageNum=0&refId=3aQ2FNYr5B%2F%2Badx0mZEYrQ%3D%3D&trackingId=0Xqa9%2BqODpkg6wddTijM0A%3D%3D&trk=public_jobs_jserp-result_search-card',\n",
       " 'https://de.linkedin.com/jobs/view/business-analyst-m-w-d-at-mamgo-talente-%F0%9F%94%97-jobs-3967837172?position=15&pageNum=0&refId=3aQ2FNYr5B%2F%2Badx0mZEYrQ%3D%3D&trackingId=%2BPhA0CHJRgbWjrL%2BDDeKYA%3D%3D&trk=public_jobs_jserp-result_search-card',\n",
       " 'https://de.linkedin.com/jobs/view/senior-market-analyst-at-ducker-carlisle-3967486577?position=16&pageNum=0&refId=3aQ2FNYr5B%2F%2Badx0mZEYrQ%3D%3D&trackingId=hdP74aLqMP8W0ZJ%2FhzuE4Q%3D%3D&trk=public_jobs_jserp-result_search-card',\n",
       " 'https://de.linkedin.com/jobs/view/business-analyst-at-inkitt-3944020450?position=17&pageNum=0&refId=3aQ2FNYr5B%2F%2Badx0mZEYrQ%3D%3D&trackingId=YNIZoQO74boa0%2F1MidENIQ%3D%3D&trk=public_jobs_jserp-result_search-card',\n",
       " 'https://de.linkedin.com/jobs/view/business-analyst-k%C3%BCnstliche-intelligenz-m-w-div-at-deutsche-rentenversicherung-bund-3943303974?position=18&pageNum=0&refId=3aQ2FNYr5B%2F%2Badx0mZEYrQ%3D%3D&trackingId=E5if84EzDccfcal5%2Fh6NnA%3D%3D&trk=public_jobs_jserp-result_search-card',\n",
       " 'https://de.linkedin.com/jobs/view/business-data-analyst-bangkok-based-relocation-provided-at-agoda-3748495136?position=19&pageNum=0&refId=3aQ2FNYr5B%2F%2Badx0mZEYrQ%3D%3D&trackingId=XQ2Q54EBTQUFr9s3%2F26Xiw%3D%3D&trk=public_jobs_jserp-result_search-card',\n",
       " 'https://de.linkedin.com/jobs/view/business-analyst-at-optimus-search-3967711074?position=20&pageNum=0&refId=3aQ2FNYr5B%2F%2Badx0mZEYrQ%3D%3D&trackingId=BKC7xNngr0DRkpLpCnLD8A%3D%3D&trk=public_jobs_jserp-result_search-card',\n",
       " 'https://de.linkedin.com/jobs/view/business-analyst-at-kuoni-tumlare-3932455461?position=21&pageNum=0&refId=3aQ2FNYr5B%2F%2Badx0mZEYrQ%3D%3D&trackingId=7DALVoPkXeD%2FcbYdq70qKw%3D%3D&trk=public_jobs_jserp-result_search-card',\n",
       " 'https://de.linkedin.com/jobs/view/senior-marketing-analyst-at-amboss-3968158849?position=22&pageNum=0&refId=3aQ2FNYr5B%2F%2Badx0mZEYrQ%3D%3D&trackingId=Poxc9fRSWd3OkjOAAd%2B3Hw%3D%3D&trk=public_jobs_jserp-result_search-card',\n",
       " 'https://de.linkedin.com/jobs/view/senior-business-functional-analyst-f-m-x-%E2%80%93-cloud-data-platform-at-deutsche-bank-3962434103?position=23&pageNum=0&refId=3aQ2FNYr5B%2F%2Badx0mZEYrQ%3D%3D&trackingId=noPSgmZPqzibZriZb8faBw%3D%3D&trk=public_jobs_jserp-result_search-card',\n",
       " 'https://de.linkedin.com/jobs/view/market-analyst-research-analyst-m-w-d-at-engel-v%C3%B6lkers-commercial-berlin-3892372773?position=24&pageNum=0&refId=3aQ2FNYr5B%2F%2Badx0mZEYrQ%3D%3D&trackingId=NjacoMsgpNBRYCV8ZOS0nQ%3D%3D&trk=public_jobs_jserp-result_search-card',\n",
       " 'https://de.linkedin.com/jobs/view/business-analystin-at-lawpilots-3870519362?position=25&pageNum=0&refId=3aQ2FNYr5B%2F%2Badx0mZEYrQ%3D%3D&trackingId=PZFkznjMF1GllKzVcaizVA%3D%3D&trk=public_jobs_jserp-result_search-card',\n",
       " 'https://de.linkedin.com/jobs/view/business-analyst-m-w-d-43-cl-27-2-at-moyyn-3587529775?position=26&pageNum=0&refId=3aQ2FNYr5B%2F%2Badx0mZEYrQ%3D%3D&trackingId=gl3aWG0fd%2BrfeyWu5QJ2zg%3D%3D&trk=public_jobs_jserp-result_search-card',\n",
       " 'https://de.linkedin.com/jobs/view/publicis-media-senior-web-analyst-m-w-d-berlin-at-publicis-media-germany-3926568281?position=27&pageNum=0&refId=3aQ2FNYr5B%2F%2Badx0mZEYrQ%3D%3D&trackingId=27867BqaGHgYL1YgKygSDw%3D%3D&trk=public_jobs_jserp-result_search-card',\n",
       " 'https://de.linkedin.com/jobs/view/business-analyst-f-m-d-at-verve-3889887114?position=28&pageNum=0&refId=3aQ2FNYr5B%2F%2Badx0mZEYrQ%3D%3D&trackingId=ya2sTrdEZYJLGJTNaOhj4A%3D%3D&trk=public_jobs_jserp-result_search-card',\n",
       " 'https://de.linkedin.com/jobs/view/business-analyst-at-stealth-it-consulting-3924228742?position=29&pageNum=0&refId=3aQ2FNYr5B%2F%2Badx0mZEYrQ%3D%3D&trackingId=fgBYtWVNJMdIxyHVu4%2FbsA%3D%3D&trk=public_jobs_jserp-result_search-card',\n",
       " 'https://de.linkedin.com/jobs/view/business-analyst-m-f-d-proptech-innovation-at-aroundtown-3955798269?position=30&pageNum=0&refId=3aQ2FNYr5B%2F%2Badx0mZEYrQ%3D%3D&trackingId=Mgudrw9l1eJq4uYXFQ3AXw%3D%3D&trk=public_jobs_jserp-result_search-card',\n",
       " 'https://de.linkedin.com/jobs/view/de-sea-performance-marketing-manager-kurzurlaub-berlin-m-f-d-at-hometogo-3844331575?position=31&pageNum=0&refId=3aQ2FNYr5B%2F%2Badx0mZEYrQ%3D%3D&trackingId=2ydnbEFKca4tVka5Vfr08w%3D%3D&trk=public_jobs_jserp-result_search-card',\n",
       " 'https://de.linkedin.com/jobs/view/business-analyst-onsite-campaign-content-m-w-d-remote-m%C3%B6glich-at-breuninger-3949461560?position=32&pageNum=0&refId=3aQ2FNYr5B%2F%2Badx0mZEYrQ%3D%3D&trackingId=0aiquGSw6AYt7vpTYTMAjg%3D%3D&trk=public_jobs_jserp-result_search-card',\n",
       " 'https://de.linkedin.com/jobs/view/senior-business-analyst-promotions-europe-m-f-x-at-wayfair-3932399471?position=33&pageNum=0&refId=3aQ2FNYr5B%2F%2Badx0mZEYrQ%3D%3D&trackingId=IJQiD41ttj2%2FGB4MfPdzQw%3D%3D&trk=public_jobs_jserp-result_search-card',\n",
       " 'https://de.linkedin.com/jobs/view/business-analyst-m-w-d-at-avantgarde-experts-3966451986?position=34&pageNum=0&refId=3aQ2FNYr5B%2F%2Badx0mZEYrQ%3D%3D&trackingId=YK%2FfkXmzNGqAN41s3xnZjA%3D%3D&trk=public_jobs_jserp-result_search-card',\n",
       " 'https://de.linkedin.com/jobs/view/senior-digital-marketing-analyst-m-w-d-at-instaffo-3925210076?position=35&pageNum=0&refId=3aQ2FNYr5B%2F%2Badx0mZEYrQ%3D%3D&trackingId=iGBAJVY1bNSz27kfRELbfw%3D%3D&trk=public_jobs_jserp-result_search-card',\n",
       " 'https://de.linkedin.com/jobs/view/business-analyst-m-w-d-at-mediamarktsaturn-3953262200?position=36&pageNum=0&refId=3aQ2FNYr5B%2F%2Badx0mZEYrQ%3D%3D&trackingId=LfTtBJZ3ylvqFnsgGezrug%3D%3D&trk=public_jobs_jserp-result_search-card',\n",
       " 'https://de.linkedin.com/jobs/view/business-analyst-level-2-output-and-security-access-at-mygwork-lgbtq%2B-business-community-3961808147?position=37&pageNum=0&refId=3aQ2FNYr5B%2F%2Badx0mZEYrQ%3D%3D&trackingId=s7REVHS7CvciRs%2BfRYcwRA%3D%3D&trk=public_jobs_jserp-result_search-card',\n",
       " 'https://de.linkedin.com/jobs/view/business-analyst-projekte-m-w-d-at-stadt-und-land-wohnbauten-gesellschaft-mbh-3964617401?position=38&pageNum=0&refId=3aQ2FNYr5B%2F%2Badx0mZEYrQ%3D%3D&trackingId=6EI9RmtWRn%2FXQQGDW9FR2A%3D%3D&trk=public_jobs_jserp-result_search-card',\n",
       " 'https://de.linkedin.com/jobs/view/business-analyst-at-dabster-3818819649?position=39&pageNum=0&refId=3aQ2FNYr5B%2F%2Badx0mZEYrQ%3D%3D&trackingId=7rfeL7QbuJTGwSYKfqblGQ%3D%3D&trk=public_jobs_jserp-result_search-card',\n",
       " 'https://de.linkedin.com/jobs/view/business-analyst-in-stammdaten-at-stromnetz-berlin-gmbh-3967137813?position=40&pageNum=0&refId=3aQ2FNYr5B%2F%2Badx0mZEYrQ%3D%3D&trackingId=L2GPCm%2F%2Bv2WbMEy0gTzOJw%3D%3D&trk=public_jobs_jserp-result_search-card',\n",
       " 'https://de.linkedin.com/jobs/view/business-analyst-in-devops-team-at-deutsche-bahn-3968212454?position=41&pageNum=0&refId=3aQ2FNYr5B%2F%2Badx0mZEYrQ%3D%3D&trackingId=rJVY5nRuDg7gxUDPz15YSw%3D%3D&trk=public_jobs_jserp-result_search-card',\n",
       " 'https://de.linkedin.com/jobs/view/marketing-performance-senior-fp-a-analyst-at-getyourguide-3950350438?position=42&pageNum=0&refId=3aQ2FNYr5B%2F%2Badx0mZEYrQ%3D%3D&trackingId=ARrDdyHYPRskubvewSjapg%3D%3D&trk=public_jobs_jserp-result_search-card',\n",
       " 'https://de.linkedin.com/jobs/view/business-analyst-m-w-d-at-dkb-service-gmbh-3945294818?position=43&pageNum=0&refId=3aQ2FNYr5B%2F%2Badx0mZEYrQ%3D%3D&trackingId=Ono1c9HilNu8LCN0QNpx9w%3D%3D&trk=public_jobs_jserp-result_search-card',\n",
       " 'https://de.linkedin.com/jobs/view/praktikant-produktmanager-business-analyst-in-einer-klinik-f%C3%BCr-kosmetische-medizin-at-stunning-you-plastische-%C3%A4sthetische-chirurgie-dr-kamil-akhundov-3966696430?position=44&pageNum=0&refId=3aQ2FNYr5B%2F%2Badx0mZEYrQ%3D%3D&trackingId=1hkoLhbtFmVnXMAkdop4qw%3D%3D&trk=public_jobs_jserp-result_search-card',\n",
       " 'https://de.linkedin.com/jobs/view/business-analyst-m-w-d-at-mediamarktsaturn-3801293970?position=45&pageNum=0&refId=3aQ2FNYr5B%2F%2Badx0mZEYrQ%3D%3D&trackingId=5%2F2V8Hs56T%2BnOVXlWHx%2Fiw%3D%3D&trk=public_jobs_jserp-result_search-card',\n",
       " 'https://de.linkedin.com/jobs/view/business-operations-analyst-internship-at-vay-3912838777?position=46&pageNum=0&refId=3aQ2FNYr5B%2F%2Badx0mZEYrQ%3D%3D&trackingId=dktX5LrnjJNRsb%2FznaURvw%3D%3D&trk=public_jobs_jserp-result_search-card',\n",
       " 'https://de.linkedin.com/jobs/view/business-analyst-regulatory-reporting-at-mygwork-lgbtq%2B-business-community-3961498157?position=47&pageNum=0&refId=3aQ2FNYr5B%2F%2Badx0mZEYrQ%3D%3D&trackingId=rQCXhkamYLfFP6Mi3UK2zw%3D%3D&trk=public_jobs_jserp-result_search-card',\n",
       " 'https://de.linkedin.com/jobs/view/d365-f-o-business-analyst-scm-at-interex-group-3851501045?position=48&pageNum=0&refId=3aQ2FNYr5B%2F%2Badx0mZEYrQ%3D%3D&trackingId=TqHoqdZ2JCjM1cTcYdHlZg%3D%3D&trk=public_jobs_jserp-result_search-card',\n",
       " 'https://de.linkedin.com/jobs/view/duales-studium-bwl-b-a-b-sc-2025-at-deloitte-3958205417?position=49&pageNum=0&refId=3aQ2FNYr5B%2F%2Badx0mZEYrQ%3D%3D&trackingId=9dujyYdZyOYrJwHS5KMLZQ%3D%3D&trk=public_jobs_jserp-result_search-card',\n",
       " 'https://de.linkedin.com/jobs/view/business-analyst-consultant-strategieberatung-monitor-deloitte-m-w-d-at-deloitte-3365805053?position=50&pageNum=0&refId=3aQ2FNYr5B%2F%2Badx0mZEYrQ%3D%3D&trackingId=vXym5DpFEmqNeZl7eHWtQA%3D%3D&trk=public_jobs_jserp-result_search-card',\n",
       " 'https://de.linkedin.com/jobs/view/business-analyst-m-w-d-%E2%80%93-meldewesen-at-berlin-hyp-ag-3965522986?position=51&pageNum=0&refId=3aQ2FNYr5B%2F%2Badx0mZEYrQ%3D%3D&trackingId=tb6jK2V2MxoH6Nc85e4XyA%3D%3D&trk=public_jobs_jserp-result_search-card',\n",
       " 'https://de.linkedin.com/jobs/view/erp-business-analyst-permanent-at-stadt-und-land-wohnbauten-gesellschaft-mbh-3964615856?position=52&pageNum=0&refId=3aQ2FNYr5B%2F%2Badx0mZEYrQ%3D%3D&trackingId=bUvXdvvAC6g4YOR7pyxiBw%3D%3D&trk=public_jobs_jserp-result_search-card',\n",
       " 'https://de.linkedin.com/jobs/view/business-analyst-value-added-services-m-w-d-at-verivox-gmbh-3808136547?position=53&pageNum=0&refId=3aQ2FNYr5B%2F%2Badx0mZEYrQ%3D%3D&trackingId=hzp4VRjwXbL%2BrbA39yhlEg%3D%3D&trk=public_jobs_jserp-result_search-card',\n",
       " 'https://de.linkedin.com/jobs/view/business-analyst-m-w-d-at-leipziger-stadtwerke-3964614507?position=54&pageNum=0&refId=3aQ2FNYr5B%2F%2Badx0mZEYrQ%3D%3D&trackingId=Zsk94HzVk%2FC%2BJSZHfK43ag%3D%3D&trk=public_jobs_jserp-result_search-card',\n",
       " 'https://de.linkedin.com/jobs/view/business-analyst-m-w-d-at-cbtw-3832274822?position=55&pageNum=0&refId=3aQ2FNYr5B%2F%2Badx0mZEYrQ%3D%3D&trackingId=HsVXvOJrR4ZrNXRj2KJzHQ%3D%3D&trk=public_jobs_jserp-result_search-card',\n",
       " 'https://de.linkedin.com/jobs/view/business-analyst-trade-finance-technical-at-capco-3969876993?position=56&pageNum=0&refId=3aQ2FNYr5B%2F%2Badx0mZEYrQ%3D%3D&trackingId=rDCReEsEJb5kPyU785uQGQ%3D%3D&trk=public_jobs_jserp-result_search-card',\n",
       " 'https://de.linkedin.com/jobs/view/business-analyst-m-w-d-at-cbtw-3832267439?position=57&pageNum=0&refId=3aQ2FNYr5B%2F%2Badx0mZEYrQ%3D%3D&trackingId=Pfte27f4bBMuh%2FHpea5lDA%3D%3D&trk=public_jobs_jserp-result_search-card',\n",
       " 'https://de.linkedin.com/jobs/view/business-analyst-trade-finance-at-capco-3969885018?position=58&pageNum=0&refId=3aQ2FNYr5B%2F%2Badx0mZEYrQ%3D%3D&trackingId=i8LGc%2BNtGziDtOySAAuusQ%3D%3D&trk=public_jobs_jserp-result_search-card',\n",
       " 'https://de.linkedin.com/jobs/view/business-analyst-automatisierung-rpa-ki-w-m-d-at-stadt-und-land-wohnbauten-gesellschaft-mbh-3960773426?position=59&pageNum=0&refId=3aQ2FNYr5B%2F%2Badx0mZEYrQ%3D%3D&trackingId=eau2PCTp5AI6x7Hnaj7LYQ%3D%3D&trk=public_jobs_jserp-result_search-card',\n",
       " 'https://de.linkedin.com/jobs/view/business-analyst-d-m-w-at-liqid-3911482653?position=60&pageNum=0&refId=3aQ2FNYr5B%2F%2Badx0mZEYrQ%3D%3D&trackingId=rJhHLzhIRYeFULVOwaDuHQ%3D%3D&trk=public_jobs_jserp-result_search-card',\n",
       " 'https://de.linkedin.com/jobs/view/business-analyst-m-w-d-43-cl-27-2-at-moyyn-3587529775?position=1&pageNum=2&refId=fowdZx8YUWhofAF4FsoD3A%3D%3D&trackingId=bve9aZ33aJYCKbZt95Sq%2Bw%3D%3D&trk=public_jobs_jserp-result_search-card',\n",
       " 'https://de.linkedin.com/jobs/view/publicis-media-senior-web-analyst-m-w-d-berlin-at-publicis-media-germany-3926568281?position=2&pageNum=2&refId=fowdZx8YUWhofAF4FsoD3A%3D%3D&trackingId=Nhy%2FmuGzUFMHLVvab0xPLQ%3D%3D&trk=public_jobs_jserp-result_search-card',\n",
       " 'https://de.linkedin.com/jobs/view/business-analyst-f-m-d-at-verve-3889887114?position=3&pageNum=2&refId=fowdZx8YUWhofAF4FsoD3A%3D%3D&trackingId=o1Hr5pBonlzl05DFcZiO9Q%3D%3D&trk=public_jobs_jserp-result_search-card',\n",
       " 'https://de.linkedin.com/jobs/view/business-analyst-at-stealth-it-consulting-3924228742?position=4&pageNum=2&refId=fowdZx8YUWhofAF4FsoD3A%3D%3D&trackingId=mymjU5K714aXUl%2BH4EmGzQ%3D%3D&trk=public_jobs_jserp-result_search-card',\n",
       " 'https://de.linkedin.com/jobs/view/business-analyst-m-f-d-proptech-innovation-at-aroundtown-3955798269?position=5&pageNum=2&refId=fowdZx8YUWhofAF4FsoD3A%3D%3D&trackingId=HcPJh5O1dvv3089oSpsVvw%3D%3D&trk=public_jobs_jserp-result_search-card',\n",
       " 'https://de.linkedin.com/jobs/view/de-sea-performance-marketing-manager-kurzurlaub-berlin-m-f-d-at-hometogo-3844331575?position=6&pageNum=2&refId=fowdZx8YUWhofAF4FsoD3A%3D%3D&trackingId=Ir5tOt8bCtYAnh410Sh%2FRw%3D%3D&trk=public_jobs_jserp-result_search-card',\n",
       " 'https://de.linkedin.com/jobs/view/business-analyst-onsite-campaign-content-m-w-d-remote-m%C3%B6glich-at-breuninger-3949461560?position=7&pageNum=2&refId=fowdZx8YUWhofAF4FsoD3A%3D%3D&trackingId=UHsBfH%2FinqISro%2BWS1I4zA%3D%3D&trk=public_jobs_jserp-result_search-card',\n",
       " 'https://de.linkedin.com/jobs/view/senior-business-analyst-promotions-europe-m-f-x-at-wayfair-3932399471?position=8&pageNum=2&refId=fowdZx8YUWhofAF4FsoD3A%3D%3D&trackingId=P%2BPhHoE4%2F4nRA2HKoxwBbg%3D%3D&trk=public_jobs_jserp-result_search-card',\n",
       " 'https://de.linkedin.com/jobs/view/business-analyst-m-w-d-at-avantgarde-experts-3966451986?position=9&pageNum=2&refId=fowdZx8YUWhofAF4FsoD3A%3D%3D&trackingId=xyyNhjVvfN2my1p7fYYbRg%3D%3D&trk=public_jobs_jserp-result_search-card',\n",
       " 'https://de.linkedin.com/jobs/view/senior-digital-marketing-analyst-m-w-d-at-instaffo-3925210076?position=10&pageNum=2&refId=fowdZx8YUWhofAF4FsoD3A%3D%3D&trackingId=WjFfrK%2FvKuJJboJ0R%2Fp5Ng%3D%3D&trk=public_jobs_jserp-result_search-card',\n",
       " 'https://de.linkedin.com/jobs/view/business-analyst-m-w-d-%E2%80%93-meldewesen-at-berlin-hyp-ag-3965522986?position=1&pageNum=5&refId=%2BwyQaWLc4KJt7Bus%2BpPRDA%3D%3D&trackingId=Qimt4Z9sfrieKsznbPkaqA%3D%3D&trk=public_jobs_jserp-result_search-card',\n",
       " 'https://de.linkedin.com/jobs/view/erp-business-analyst-permanent-at-stadt-und-land-wohnbauten-gesellschaft-mbh-3964615856?position=2&pageNum=5&refId=%2BwyQaWLc4KJt7Bus%2BpPRDA%3D%3D&trackingId=9n6lMCu7dUN%2BiAjjLp2Q%2Fw%3D%3D&trk=public_jobs_jserp-result_search-card',\n",
       " 'https://de.linkedin.com/jobs/view/business-analyst-value-added-services-m-w-d-at-verivox-gmbh-3808136547?position=3&pageNum=5&refId=%2BwyQaWLc4KJt7Bus%2BpPRDA%3D%3D&trackingId=ej5U8zcsDTJOfOxVisP3kg%3D%3D&trk=public_jobs_jserp-result_search-card',\n",
       " 'https://de.linkedin.com/jobs/view/business-analyst-m-w-d-at-leipziger-stadtwerke-3964614507?position=4&pageNum=5&refId=%2BwyQaWLc4KJt7Bus%2BpPRDA%3D%3D&trackingId=UFilHJU07wmis%2F%2FO7g4FQA%3D%3D&trk=public_jobs_jserp-result_search-card',\n",
       " 'https://de.linkedin.com/jobs/view/business-analyst-m-w-d-at-cbtw-3832274822?position=5&pageNum=5&refId=%2BwyQaWLc4KJt7Bus%2BpPRDA%3D%3D&trackingId=DndN4IrJarMRn1BVA4ALwQ%3D%3D&trk=public_jobs_jserp-result_search-card',\n",
       " 'https://de.linkedin.com/jobs/view/business-analyst-trade-finance-technical-at-capco-3969876993?position=6&pageNum=5&refId=%2BwyQaWLc4KJt7Bus%2BpPRDA%3D%3D&trackingId=%2BKXvbdk2pN6iCiQiJu34Dg%3D%3D&trk=public_jobs_jserp-result_search-card',\n",
       " 'https://de.linkedin.com/jobs/view/business-analyst-m-w-d-at-cbtw-3832267439?position=7&pageNum=5&refId=%2BwyQaWLc4KJt7Bus%2BpPRDA%3D%3D&trackingId=NJ0OhNfWBlLET1YKhWpvTg%3D%3D&trk=public_jobs_jserp-result_search-card',\n",
       " 'https://de.linkedin.com/jobs/view/business-analyst-trade-finance-at-capco-3969885018?position=8&pageNum=5&refId=%2BwyQaWLc4KJt7Bus%2BpPRDA%3D%3D&trackingId=x6DxfS5%2B%2FdURbufcu5uJLQ%3D%3D&trk=public_jobs_jserp-result_search-card',\n",
       " 'https://de.linkedin.com/jobs/view/business-analyst-automatisierung-rpa-ki-w-m-d-at-stadt-und-land-wohnbauten-gesellschaft-mbh-3960773426?position=9&pageNum=5&refId=%2BwyQaWLc4KJt7Bus%2BpPRDA%3D%3D&trackingId=g3nTUMT1bSPu%2BxSwSb3cqQ%3D%3D&trk=public_jobs_jserp-result_search-card',\n",
       " 'https://de.linkedin.com/jobs/view/business-analyst-d-m-w-at-liqid-3911482653?position=10&pageNum=5&refId=%2BwyQaWLc4KJt7Bus%2BpPRDA%3D%3D&trackingId=Hc1GuA3nRwYlmgboCcecow%3D%3D&trk=public_jobs_jserp-result_search-card',\n",
       " 'https://de.linkedin.com/jobs/view/duales-studium-b-a-bwl-industrie-m-w-d-2025-at-fuchs-lubricants-germany-3964618999?position=1&pageNum=7&refId=7F9iLv%2BOy554M3rBvKcRWw%3D%3D&trackingId=jMeK8dyNe%2B%2FKMwK7f6OaSA%3D%3D&trk=public_jobs_jserp-result_search-card',\n",
       " 'https://de.linkedin.com/jobs/view/business-analyst-consultant-cloud-integration-m-w-d-at-deloitte-3628998054?position=2&pageNum=7&refId=7F9iLv%2BOy554M3rBvKcRWw%3D%3D&trackingId=BIdqzBlb5i0CsQIb9Hqw1g%3D%3D&trk=public_jobs_jserp-result_search-card',\n",
       " 'https://de.linkedin.com/jobs/view/business-analyst-bav-projekte-m-w-d-at-stadt-und-land-wohnbauten-gesellschaft-mbh-3964618794?position=3&pageNum=7&refId=7F9iLv%2BOy554M3rBvKcRWw%3D%3D&trackingId=hIl2nm5aHB%2BHm%2FgTO%2FqV7w%3D%3D&trk=public_jobs_jserp-result_search-card',\n",
       " 'https://de.linkedin.com/jobs/view/operations-manager-m-w-d-at-glambou-3927518228?position=4&pageNum=7&refId=7F9iLv%2BOy554M3rBvKcRWw%3D%3D&trackingId=sPWPZ0aqOcE2lRy6S6QjiQ%3D%3D&trk=public_jobs_jserp-result_search-card',\n",
       " 'https://de.linkedin.com/jobs/view/business-analyst-consultant-digital-transformation-servicenow-m-w-d-at-deloitte-3073143523?position=6&pageNum=7&refId=7F9iLv%2BOy554M3rBvKcRWw%3D%3D&trackingId=hmVICPomaGtghpUQ47OKQw%3D%3D&trk=public_jobs_jserp-result_search-card',\n",
       " 'https://de.linkedin.com/jobs/view/marketing-analyst-%E2%80%93-new-verticals-bangkok-based-relocation-provided-at-agoda-3966917278?position=7&pageNum=7&refId=7F9iLv%2BOy554M3rBvKcRWw%3D%3D&trackingId=pzSibofLJKOzf6sNKnm3Cw%3D%3D&trk=public_jobs_jserp-result_search-card',\n",
       " 'https://de.linkedin.com/jobs/view/senior-business-functional-analyst-f-m-x-cloud-data-platform-at-jobs-via-efinancialcareers-3962404431?position=8&pageNum=7&refId=7F9iLv%2BOy554M3rBvKcRWw%3D%3D&trackingId=jWdRcxfusaVfwzVjZkpFNA%3D%3D&trk=public_jobs_jserp-result_search-card',\n",
       " 'https://de.linkedin.com/jobs/view/plm-business-analyst-%E2%80%93-windchill-at-ad-astra-consultants-3962796680?position=9&pageNum=7&refId=7F9iLv%2BOy554M3rBvKcRWw%3D%3D&trackingId=tGB5wIllqyqe9qyiEs8now%3D%3D&trk=public_jobs_jserp-result_search-card',\n",
       " 'https://de.linkedin.com/jobs/view/business-analyst-consultant-m-w-d-enterprise-resource-planning-erp-in-berlin-at-deloitte-3277747614?position=10&pageNum=7&refId=7F9iLv%2BOy554M3rBvKcRWw%3D%3D&trackingId=i8reUb7kEH%2Fn1dp2%2FiR8rg%3D%3D&trk=public_jobs_jserp-result_search-card',\n",
       " 'https://de.linkedin.com/jobs/view/payroll-specialist-business-analyst-m-w-d-at-sd-worx-belgium-3962938615?position=1&pageNum=10&refId=2nkzpfUXyLoqEtyNPzjiLQ%3D%3D&trackingId=E19IXLTb1HwmEg39oeUoOw%3D%3D&trk=public_jobs_jserp-result_search-card',\n",
       " 'https://de.linkedin.com/jobs/view/business-analyst-electricity-balancing-w-m-d-at-50hertz-transmission-gmbh-3969206966?position=2&pageNum=10&refId=2nkzpfUXyLoqEtyNPzjiLQ%3D%3D&trackingId=cQucwFxxWznx48RUHjRF8A%3D%3D&trk=public_jobs_jserp-result_search-card',\n",
       " 'https://de.linkedin.com/jobs/view/business-analyst-prozessautomatisierung-expert-services-w-m-d-at-e-on-digital-technology-3949364636?position=3&pageNum=10&refId=2nkzpfUXyLoqEtyNPzjiLQ%3D%3D&trackingId=sJhdCBzSGqBQCwjE0r5ECw%3D%3D&trk=public_jobs_jserp-result_search-card',\n",
       " 'https://de.linkedin.com/jobs/view/duales-studium-b-a-tourismusmanagement-m-w-d-at-a-o-hostels-3938736444?position=4&pageNum=10&refId=2nkzpfUXyLoqEtyNPzjiLQ%3D%3D&trackingId=qjX4ABxjG%2BVTqNRoOn9znw%3D%3D&trk=public_jobs_jserp-result_search-card',\n",
       " 'https://de.linkedin.com/jobs/view/business-analyst-electricity-balancing-w-m-d-at-50hertz-transmission-gmbh-3969208660?position=5&pageNum=10&refId=2nkzpfUXyLoqEtyNPzjiLQ%3D%3D&trackingId=go6ZD2FviVe5ffvUMcgTCw%3D%3D&trk=public_jobs_jserp-result_search-card',\n",
       " 'https://de.linkedin.com/jobs/view/duales-studium-gesundheitsmanagement-b-a-am-campus-oder-virtuell-at-iu-international-university-of-applied-sciences-3931722005?position=6&pageNum=10&refId=2nkzpfUXyLoqEtyNPzjiLQ%3D%3D&trackingId=%2BlFMquVmqHhzDW2Bexdy%2Bw%3D%3D&trk=public_jobs_jserp-result_search-card',\n",
       " 'https://de.linkedin.com/jobs/view/business-analyst-anti-money-laundering-at-jobs-via-efinancialcareers-3962299959?position=7&pageNum=10&refId=2nkzpfUXyLoqEtyNPzjiLQ%3D%3D&trackingId=6et6IOpZ1yIFmZZV3JlEOQ%3D%3D&trk=public_jobs_jserp-result_search-card',\n",
       " 'https://de.linkedin.com/jobs/view/business-analyst-trade-finance-at-jobs-via-efinancialcareers-3962402588?position=8&pageNum=10&refId=2nkzpfUXyLoqEtyNPzjiLQ%3D%3D&trackingId=rNvAhV4bym7lpkbwQ4NvDg%3D%3D&trk=public_jobs_jserp-result_search-card',\n",
       " 'https://de.linkedin.com/jobs/view/duales-studium-b-a-bwl-mit-schwerpunkt-business-sales-in-berlin-2024-at-vodafone-3817605445?position=9&pageNum=10&refId=2nkzpfUXyLoqEtyNPzjiLQ%3D%3D&trackingId=girLlXUqoed93KUOLEN%2FRQ%3D%3D&trk=public_jobs_jserp-result_search-card',\n",
       " 'https://de.linkedin.com/jobs/view/business-analyst-german-c1-m-w-d-at-luxoft-germany-3844026664?position=1&pageNum=12&refId=NQIw4yaTW0fnZX%2BzL7%2FdCg%3D%3D&trackingId=hXWk349XtY33vZFDzdolNw%3D%3D&trk=public_jobs_jserp-result_search-card',\n",
       " 'https://de.linkedin.com/jobs/view/duales-studium-immobilienwirtschaft-b-a-am-campus-oder-virtuell-at-iu-international-university-of-applied-sciences-3802371435?position=2&pageNum=12&refId=NQIw4yaTW0fnZX%2BzL7%2FdCg%3D%3D&trackingId=TsD9N0DlHgkEBoL5qA0f5w%3D%3D&trk=public_jobs_jserp-result_search-card',\n",
       " 'https://de.linkedin.com/jobs/view/duales-studium-immobilienwirtschaft-b-a-am-campus-oder-virtuell-at-iu-international-university-of-applied-sciences-3802369451?position=3&pageNum=12&refId=NQIw4yaTW0fnZX%2BzL7%2FdCg%3D%3D&trackingId=CjRfXKWjItfYd3kGDvzvjQ%3D%3D&trk=public_jobs_jserp-result_search-card',\n",
       " 'https://de.linkedin.com/jobs/view/duales-studium-betriebswirtschaftslehre-b-a-top-itservices-ag-at-iu-international-university-of-applied-sciences-3909862384?position=4&pageNum=12&refId=NQIw4yaTW0fnZX%2BzL7%2FdCg%3D%3D&trackingId=RFzbQDmwxNAivv5yImwdYA%3D%3D&trk=public_jobs_jserp-result_search-card',\n",
       " 'https://de.linkedin.com/jobs/view/consultant-business-analyst-projektmanager-life-sciences-chemicals-w-m-d-at-capgemini-3616300102?position=5&pageNum=12&refId=NQIw4yaTW0fnZX%2BzL7%2FdCg%3D%3D&trackingId=m1XtGfIHkhKPR7PulMD7bw%3D%3D&trk=public_jobs_jserp-result_search-card',\n",
       " 'https://de.linkedin.com/jobs/view/german-speaking-social-media-analyst-gn-at-grafton-recruitment-3797835380?position=7&pageNum=12&refId=NQIw4yaTW0fnZX%2BzL7%2FdCg%3D%3D&trackingId=3D%2FAys3%2BuVdD6v9sAi7Amg%3D%3D&trk=public_jobs_jserp-result_search-card',\n",
       " 'https://de.linkedin.com/jobs/view/german-speaking-social-media-analyst-gn-at-grafton-recruitment-3843375251?position=8&pageNum=12&refId=NQIw4yaTW0fnZX%2BzL7%2FdCg%3D%3D&trackingId=7zfTEiHIuviwLltEIdgOEA%3D%3D&trk=public_jobs_jserp-result_search-card']"
      ]
     },
     "execution_count": 29,
     "metadata": {},
     "output_type": "execute_result"
    }
   ],
   "source": [
    "hrefList"
   ]
  },
  {
   "cell_type": "code",
   "execution_count": 30,
   "metadata": {},
   "outputs": [],
   "source": [
    "linklist=pd.DataFrame(hrefList,columns=[\"joblinks\"])\n"
   ]
  },
  {
   "cell_type": "code",
   "execution_count": 31,
   "metadata": {},
   "outputs": [],
   "source": [
    "linklist.to_csv('linkedinlinks.csv')"
   ]
  },
  {
   "cell_type": "code",
   "execution_count": 32,
   "metadata": {},
   "outputs": [],
   "source": [
    "#Close the driver\n",
    "\n",
    "driver.close()"
   ]
  },
  {
   "cell_type": "code",
   "execution_count": null,
   "metadata": {},
   "outputs": [],
   "source": []
  },
  {
   "cell_type": "code",
   "execution_count": 26,
   "metadata": {},
   "outputs": [],
   "source": [
    "\n"
   ]
  }
 ],
 "metadata": {
  "kernelspec": {
   "display_name": "Python 3 (ipykernel)",
   "language": "python",
   "name": "python3"
  },
  "language_info": {
   "codemirror_mode": {
    "name": "ipython",
    "version": 3
   },
   "file_extension": ".py",
   "mimetype": "text/x-python",
   "name": "python",
   "nbconvert_exporter": "python",
   "pygments_lexer": "ipython3",
   "version": "3.12.4"
  }
 },
 "nbformat": 4,
 "nbformat_minor": 4
}
